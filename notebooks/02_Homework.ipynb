{
 "cells": [
  {
   "cell_type": "markdown",
   "metadata": {},
   "source": [
    "\n",
    "<p>This url\n",
    "<p><code>https://itunes.apple.com/search?term=beyonce&entity=song</code>\n",
    "<p>will return 50 songs in the iTunes store by Beyoncé.\n",
    "<p>\n",
    "<p>Write a function that will return the results of a call for any artists into a dataframe. Hint: inspect the contents of the resulting JSON to make sure you are getting what you want.</p>\n",
    "<p>\n",
    "<p><b>Hint:</b> Don't forget your <code>import</code> statements!  \n",
    "    \n",
    "</div>\n",
    "\n",
    "[API Manual](https://affiliate.itunes.apple.com/resources/documentation/itunes-store-web-service-search-api/)"
   ]
  },
  {
   "cell_type": "code",
   "execution_count": null,
   "metadata": {},
   "outputs": [],
   "source": []
  }
 ],
 "metadata": {
  "kernelspec": {
   "display_name": "Python 3",
   "language": "python",
   "name": "python3"
  },
  "language_info": {
   "codemirror_mode": {
    "name": "ipython",
    "version": 3
   },
   "file_extension": ".py",
   "mimetype": "text/x-python",
   "name": "python",
   "nbconvert_exporter": "python",
   "pygments_lexer": "ipython3",
   "version": "3.6.8"
  }
 },
 "nbformat": 4,
 "nbformat_minor": 2
}
